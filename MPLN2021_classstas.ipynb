{
  "nbformat": 4,
  "nbformat_minor": 0,
  "metadata": {
    "colab": {
      "name": "MPLN2021_classstas.ipynb",
      "provenance": [],
      "authorship_tag": "ABX9TyPPn07SsKFYHoAz+4RQLYyS",
      "include_colab_link": true
    },
    "kernelspec": {
      "name": "python3",
      "display_name": "Python 3"
    },
    "language_info": {
      "name": "python"
    }
  },
  "cells": [
    {
      "cell_type": "markdown",
      "metadata": {
        "id": "view-in-github",
        "colab_type": "text"
      },
      "source": [
        "<a href=\"https://colab.research.google.com/github/alessiapapalini/MLPNS2021/blob/main/MPLN2021_classstas.ipynb\" target=\"_parent\"><img src=\"https://colab.research.google.com/assets/colab-badge.svg\" alt=\"Open In Colab\"/></a>"
      ]
    },
    {
      "cell_type": "code",
      "metadata": {
        "id": "ozvmt_TzMGyd"
      },
      "source": [
        "import numpy as np\n",
        "import pylab as plt "
      ],
      "execution_count": 20,
      "outputs": []
    },
    {
      "cell_type": "code",
      "metadata": {
        "colab": {
          "base_uri": "https://localhost:8080/"
        },
        "id": "-y4OuI5gMJM5",
        "outputId": "ac1be81b-7dd7-4407-c2bc-0bcb6868578d"
      },
      "source": [
        "np.random.rand()"
      ],
      "execution_count": 33,
      "outputs": [
        {
          "output_type": "execute_result",
          "data": {
            "text/plain": [
              "0.6094242345703212"
            ]
          },
          "metadata": {
            "tags": []
          },
          "execution_count": 33
        }
      ]
    },
    {
      "cell_type": "code",
      "metadata": {
        "id": "gXDZnkXJMJP1"
      },
      "source": [
        "np.random?"
      ],
      "execution_count": 34,
      "outputs": []
    },
    {
      "cell_type": "code",
      "metadata": {
        "colab": {
          "base_uri": "https://localhost:8080/"
        },
        "id": "LQv_K50gMJS2",
        "outputId": "1a67ed2c-518d-474d-d41d-564fc4c589d2"
      },
      "source": [
        "np.random.rand(10,2).mean(axis=0)"
      ],
      "execution_count": 35,
      "outputs": [
        {
          "output_type": "execute_result",
          "data": {
            "text/plain": [
              "array([0.65680197, 0.44092761])"
            ]
          },
          "metadata": {
            "tags": []
          },
          "execution_count": 35
        }
      ]
    },
    {
      "cell_type": "code",
      "metadata": {
        "colab": {
          "base_uri": "https://localhost:8080/"
        },
        "id": "8RN2vh-dMJWS",
        "outputId": "8938f51e-afcb-4216-cdfa-7b6de3256c1d"
      },
      "source": [
        "def mygauss(x,mu, sig):\n",
        "  return  1/np.sqrt(2*np.pi)/sig * (np.exp(-(x-mu)**2/2/sig**2))\n",
        "x=np.arange(100)\n",
        "mu=50\n",
        "sig=10\n",
        "mygauss(x,mu,sig) #array of floating number "
      ],
      "execution_count": 50,
      "outputs": [
        {
          "output_type": "execute_result",
          "data": {
            "text/plain": [
              "array([1.48671951e-07, 2.43896075e-07, 3.96129909e-07, 6.36982518e-07,\n",
              "       1.01408521e-06, 1.59837411e-06, 2.49424713e-06, 3.85351967e-06,\n",
              "       5.89430678e-06, 8.92616572e-06, 1.33830226e-05, 1.98655471e-05,\n",
              "       2.91946926e-05, 4.24780271e-05, 6.11901930e-05, 8.72682695e-05,\n",
              "       1.23221917e-04, 1.72256894e-04, 2.38408820e-04, 3.26681906e-04,\n",
              "       4.43184841e-04, 5.95253242e-04, 7.91545158e-04, 1.04209348e-03,\n",
              "       1.35829692e-03, 1.75283005e-03, 2.23945303e-03, 2.83270377e-03,\n",
              "       3.54745928e-03, 4.39835960e-03, 5.39909665e-03, 6.56158148e-03,\n",
              "       7.89501583e-03, 9.40490774e-03, 1.10920835e-02, 1.29517596e-02,\n",
              "       1.49727466e-02, 1.71368592e-02, 1.94186055e-02, 2.17852177e-02,\n",
              "       2.41970725e-02, 2.66085250e-02, 2.89691553e-02, 3.12253933e-02,\n",
              "       3.33224603e-02, 3.52065327e-02, 3.68270140e-02, 3.81387815e-02,\n",
              "       3.91042694e-02, 3.96952547e-02, 3.98942280e-02, 3.96952547e-02,\n",
              "       3.91042694e-02, 3.81387815e-02, 3.68270140e-02, 3.52065327e-02,\n",
              "       3.33224603e-02, 3.12253933e-02, 2.89691553e-02, 2.66085250e-02,\n",
              "       2.41970725e-02, 2.17852177e-02, 1.94186055e-02, 1.71368592e-02,\n",
              "       1.49727466e-02, 1.29517596e-02, 1.10920835e-02, 9.40490774e-03,\n",
              "       7.89501583e-03, 6.56158148e-03, 5.39909665e-03, 4.39835960e-03,\n",
              "       3.54745928e-03, 2.83270377e-03, 2.23945303e-03, 1.75283005e-03,\n",
              "       1.35829692e-03, 1.04209348e-03, 7.91545158e-04, 5.95253242e-04,\n",
              "       4.43184841e-04, 3.26681906e-04, 2.38408820e-04, 1.72256894e-04,\n",
              "       1.23221917e-04, 8.72682695e-05, 6.11901930e-05, 4.24780271e-05,\n",
              "       2.91946926e-05, 1.98655471e-05, 1.33830226e-05, 8.92616572e-06,\n",
              "       5.89430678e-06, 3.85351967e-06, 2.49424713e-06, 1.59837411e-06,\n",
              "       1.01408521e-06, 6.36982518e-07, 3.96129909e-07, 2.43896075e-07])"
            ]
          },
          "metadata": {
            "tags": []
          },
          "execution_count": 50
        }
      ]
    },
    {
      "cell_type": "code",
      "metadata": {
        "colab": {
          "base_uri": "https://localhost:8080/",
          "height": 282
        },
        "id": "Pnh17rQ8MJap",
        "outputId": "2568deb5-fea1-4376-9506-82ee7c0b32bb"
      },
      "source": [
        "plt.plot (x, mygauss(x,mu, sig))"
      ],
      "execution_count": 51,
      "outputs": [
        {
          "output_type": "execute_result",
          "data": {
            "text/plain": [
              "[<matplotlib.lines.Line2D at 0x7f2fd5316490>]"
            ]
          },
          "metadata": {
            "tags": []
          },
          "execution_count": 51
        },
        {
          "output_type": "display_data",
          "data": {
            "image/png": "[encoded data removed]",
            "text/plain": [
              "<Figure size 432x288 with 1 Axes>"
            ]
          },
          "metadata": {
            "tags": [],
            "needs_background": "light"
          }
        }
      ]
    },
    {
      "cell_type": "code",
      "metadata": {
        "colab": {
          "base_uri": "https://localhost:8080/",
          "height": 282
        },
        "id": "IUcjsJ1YMJew",
        "outputId": "ffb8783e-0ba2-43f8-b7ac-a6666bbfedc3"
      },
      "source": [
        "plt.plot(x, np.random.randn(100))"
      ],
      "execution_count": 52,
      "outputs": [
        {
          "output_type": "execute_result",
          "data": {
            "text/plain": [
              "[<matplotlib.lines.Line2D at 0x7f2fd528b2d0>]"
            ]
          },
          "metadata": {
            "tags": []
          },
          "execution_count": 52
        },
        {
          "output_type": "display_data",
          "data": {
            "image/png": "[encoded data removed]",
            "text/plain": [
              "<Figure size 432x288 with 1 Axes>"
            ]
          },
          "metadata": {
            "tags": [],
            "needs_background": "light"
          }
        }
      ]
    },
    {
      "cell_type": "code",
      "metadata": {
        "id": "VzBGJ9pTMJhi"
      },
      "source": [
        "import scipy as sp\n",
        "from scipy import stats"
      ],
      "execution_count": 29,
      "outputs": []
    },
    {
      "cell_type": "code",
      "metadata": {
        "colab": {
          "base_uri": "https://localhost:8080/",
          "height": 353
        },
        "id": "eEzFYHXQMJlR",
        "outputId": "c843fa61-d88c-4a48-b06f-5be6d3767f14"
      },
      "source": [
        "plt.hist(sp.stats.norm.rvs(100,size =(100)))"
      ],
      "execution_count": 41,
      "outputs": [
        {
          "output_type": "execute_result",
          "data": {
            "text/plain": [
              "(array([ 4.,  3.,  9., 13., 14., 24., 12., 11.,  8.,  2.]),\n",
              " array([ 97.65762317,  98.12217529,  98.5867274 ,  99.05127951,\n",
              "         99.51583162,  99.98038374, 100.44493585, 100.90948796,\n",
              "        101.37404008, 101.83859219, 102.3031443 ]),\n",
              " <a list of 10 Patch objects>)"
            ]
          },
          "metadata": {
            "tags": []
          },
          "execution_count": 41
        },
        {
          "output_type": "display_data",
          "data": {
            "image/png": "[encoded data removed]",
            "text/plain": [
              "<Figure size 432x288 with 1 Axes>"
            ]
          },
          "metadata": {
            "tags": [],
            "needs_background": "light"
          }
        }
      ]
    },
    {
      "cell_type": "code",
      "metadata": {
        "colab": {
          "base_uri": "https://localhost:8080/",
          "height": 350
        },
        "id": "wnlKxX2fQmjC",
        "outputId": "4ab4549f-0180-4d53-c02a-c1cb8371e9ab"
      },
      "source": [
        "np.random.seed(123)\n",
        "plt.hist(np.random.randn(100)*10+100)"
      ],
      "execution_count": 42,
      "outputs": [
        {
          "output_type": "execute_result",
          "data": {
            "text/plain": [
              "(array([ 2.,  2.,  9., 17., 16., 14., 11., 16.,  8.,  5.]),\n",
              " array([ 72.01410895,  77.20506332,  82.39601769,  87.58697206,\n",
              "         92.77792643,  97.9688808 , 103.15983517, 108.35078955,\n",
              "        113.54174392, 118.73269829, 123.92365266]),\n",
              " <a list of 10 Patch objects>)"
            ]
          },
          "metadata": {
            "tags": []
          },
          "execution_count": 42
        },
        {
          "output_type": "display_data",
          "data": {
            "image/png": "[encoded data removed]",
            "text/plain": [
              "<Figure size 432x288 with 1 Axes>"
            ]
          },
          "metadata": {
            "tags": [],
            "needs_background": "light"
          }
        }
      ]
    },
    {
      "cell_type": "code",
      "metadata": {
        "id": "UOu29jTeQmmY"
      },
      "source": [
        "np.random.seed(123)"
      ],
      "execution_count": 44,
      "outputs": []
    },
    {
      "cell_type": "code",
      "metadata": {
        "id": "2rk8V5wGQmpg"
      },
      "source": [
        ""
      ],
      "execution_count": null,
      "outputs": []
    },
    {
      "cell_type": "code",
      "metadata": {
        "id": "MD0AspWtQms3"
      },
      "source": [
        ""
      ],
      "execution_count": null,
      "outputs": []
    },
    {
      "cell_type": "code",
      "metadata": {
        "id": "3LjgXi9cQmwh"
      },
      "source": [
        ""
      ],
      "execution_count": null,
      "outputs": []
    },
    {
      "cell_type": "code",
      "metadata": {
        "id": "bAd4N29sQm0H"
      },
      "source": [
        ""
      ],
      "execution_count": null,
      "outputs": []
    },
    {
      "cell_type": "code",
      "metadata": {
        "id": "qmGZsyHzQm3B"
      },
      "source": [
        ""
      ],
      "execution_count": null,
      "outputs": []
    },
    {
      "cell_type": "code",
      "metadata": {
        "id": "lYDSOOVuQm7V"
      },
      "source": [
        ""
      ],
      "execution_count": null,
      "outputs": []
    },
    {
      "cell_type": "code",
      "metadata": {
        "id": "s8l_QlNtQm_R"
      },
      "source": [
        ""
      ],
      "execution_count": null,
      "outputs": []
    },
    {
      "cell_type": "code",
      "metadata": {
        "id": "DPkdORLMQnDO"
      },
      "source": [
        ""
      ],
      "execution_count": null,
      "outputs": []
    },
    {
      "cell_type": "code",
      "metadata": {
        "id": "6fanqYieQnHT"
      },
      "source": [
        ""
      ],
      "execution_count": null,
      "outputs": []
    },
    {
      "cell_type": "code",
      "metadata": {
        "id": "CwbOdSrVQnKk"
      },
      "source": [
        ""
      ],
      "execution_count": null,
      "outputs": []
    }
  ]
}