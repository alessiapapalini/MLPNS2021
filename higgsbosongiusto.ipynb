{
  "nbformat": 4,
  "nbformat_minor": 0,
  "metadata": {
    "colab": {
      "name": "higgsbosongiusto.ipynb",
      "provenance": [],
      "authorship_tag": "ABX9TyMxCszUQR6tnPJCPxM2qAVX",
      "include_colab_link": true
    },
    "kernelspec": {
      "name": "python3",
      "display_name": "Python 3"
    },
    "language_info": {
      "name": "python"
    }
  },
  "cells": [
    {
      "cell_type": "markdown",
      "metadata": {
        "id": "view-in-github",
        "colab_type": "text"
      },
      "source": [
        "<a href=\"https://colab.research.google.com/github/alessiapapalini/MLPNS2021/blob/main/higgsbosongiusto.ipynb\" target=\"_parent\"><img src=\"https://colab.research.google.com/assets/colab-badge.svg\" alt=\"Open In Colab\"/></a>"
      ]
    },
    {
      "cell_type": "code",
      "metadata": {
        "colab": {
          "base_uri": "https://localhost:8080/"
        },
        "id": "XLh79Ga5Kec-",
        "outputId": "b9111ed3-8ccf-4219-f528-f00dc33a64ba"
      },
      "source": [
        "!pip install geopandas"
      ],
      "execution_count": null,
      "outputs": [
        {
          "output_type": "stream",
          "text": [
            "Requirement already satisfied: geopandas in /usr/local/lib/python3.7/dist-packages (0.9.0)\n",
            "Requirement already satisfied: pandas>=0.24.0 in /usr/local/lib/python3.7/dist-packages (from geopandas) (1.1.5)\n",
            "Requirement already satisfied: fiona>=1.8 in /usr/local/lib/python3.7/dist-packages (from geopandas) (1.8.19)\n",
            "Requirement already satisfied: shapely>=1.6 in /usr/local/lib/python3.7/dist-packages (from geopandas) (1.7.1)\n",
            "Requirement already satisfied: pyproj>=2.2.0 in /usr/local/lib/python3.7/dist-packages (from geopandas) (3.0.1)\n",
            "Requirement already satisfied: pytz>=2017.2 in /usr/local/lib/python3.7/dist-packages (from pandas>=0.24.0->geopandas) (2018.9)\n",
            "Requirement already satisfied: python-dateutil>=2.7.3 in /usr/local/lib/python3.7/dist-packages (from pandas>=0.24.0->geopandas) (2.8.1)\n",
            "Requirement already satisfied: numpy>=1.15.4 in /usr/local/lib/python3.7/dist-packages (from pandas>=0.24.0->geopandas) (1.19.5)\n",
            "Requirement already satisfied: certifi in /usr/local/lib/python3.7/dist-packages (from fiona>=1.8->geopandas) (2020.12.5)\n",
            "Requirement already satisfied: munch in /usr/local/lib/python3.7/dist-packages (from fiona>=1.8->geopandas) (2.5.0)\n",
            "Requirement already satisfied: six>=1.7 in /usr/local/lib/python3.7/dist-packages (from fiona>=1.8->geopandas) (1.15.0)\n",
            "Requirement already satisfied: cligj>=0.5 in /usr/local/lib/python3.7/dist-packages (from fiona>=1.8->geopandas) (0.7.1)\n",
            "Requirement already satisfied: click-plugins>=1.0 in /usr/local/lib/python3.7/dist-packages (from fiona>=1.8->geopandas) (1.1.1)\n",
            "Requirement already satisfied: click<8,>=4.0 in /usr/local/lib/python3.7/dist-packages (from fiona>=1.8->geopandas) (7.1.2)\n",
            "Requirement already satisfied: attrs>=17 in /usr/local/lib/python3.7/dist-packages (from fiona>=1.8->geopandas) (20.3.0)\n"
          ],
          "name": "stdout"
        }
      ]
    },
    {
      "cell_type": "code",
      "metadata": {
        "colab": {
          "base_uri": "https://localhost:8080/"
        },
        "id": "B2Cfnr8JKfVA",
        "outputId": "2eb01a10-74b2-4ccc-b88c-da9312124439"
      },
      "source": [
        "import geopandas as gpd\n",
        "import pandas as pd\n",
        "import numpy  as np\n",
        "from sklearn import linear_model\n",
        "from sklearn.linear_model import LogisticRegression, RidgeClassifierCV\n",
        "from sklearn.ensemble import RandomForestClassifier, GradientBoostingClassifier\n",
        "from sklearn import preprocessing\n",
        "from sklearn.model_selection import train_test_split, cross_val_score\n",
        "from sklearn import ensemble\n",
        "from sklearn import metrics\n",
        "from sklearn import tree\n",
        "!  brew install graphviz\n",
        "import graphviz\n",
        "import pylab as pl\n",
        "pl.rcParams[\"font.size\"] = 18\n",
        "pl.rcParams[\"figure.figsize\"] = (10,10)\n",
        "%pylab inline\n"
      ],
      "execution_count": null,
      "outputs": [
        {
          "output_type": "stream",
          "text": [
            "/bin/bash: brew: command not found\n",
            "Populating the interactive namespace from numpy and matplotlib\n"
          ],
          "name": "stdout"
        }
      ]
    },
    {
      "cell_type": "code",
      "metadata": {
        "id": "Gmp5DoscKfZA"
      },
      "source": [
        "nychouses=pd.read_csv('https://raw.githubusercontent.com/fedhere/MLPNS2021/main/OHE/allzips.csv')"
      ],
      "execution_count": null,
      "outputs": []
    },
    {
      "cell_type": "code",
      "metadata": {
        "colab": {
          "base_uri": "https://localhost:8080/",
          "height": 424
        },
        "id": "l6A3rPQAONCk",
        "outputId": "47b79490-6114-4d73-f19c-8e9b14841c9e"
      },
      "source": [
        "nychouses.dropna(subset = [\"zip\", \"price\", \"sqft\", \"bedrooms\", \"bathrooms\"])"
      ],
      "execution_count": null,
      "outputs": [
        {
          "output_type": "execute_result",
          "data": {
            "text/html": [
              "<div>\n",
              "<style scoped>\n",
              "    .dataframe tbody tr th:only-of-type {\n",
              "        vertical-align: middle;\n",
              "    }\n",
              "\n",
              "    .dataframe tbody tr th {\n",
              "        vertical-align: top;\n",
              "    }\n",
              "\n",
              "    .dataframe thead th {\n",
              "        text-align: right;\n",
              "    }\n",
              "</style>\n",
              "<table border=\"1\" class=\"dataframe\">\n",
              "  <thead>\n",
              "    <tr style=\"text-align: right;\">\n",
              "      <th></th>\n",
              "      <th>address</th>\n",
              "      <th>city</th>\n",
              "      <th>state</th>\n",
              "      <th>zip</th>\n",
              "      <th>price</th>\n",
              "      <th>sqft</th>\n",
              "      <th>bedrooms</th>\n",
              "      <th>bathrooms</th>\n",
              "      <th>days_on_zillow</th>\n",
              "      <th>sale_type</th>\n",
              "      <th>url</th>\n",
              "    </tr>\n",
              "  </thead>\n",
              "  <tbody>\n",
              "    <tr>\n",
              "      <th>0</th>\n",
              "      <td>263 9th Ave APT 6B</td>\n",
              "      <td>New York</td>\n",
              "      <td>NY</td>\n",
              "      <td>10001</td>\n",
              "      <td>2599988</td>\n",
              "      <td>1536.0</td>\n",
              "      <td>2.0</td>\n",
              "      <td>2.0</td>\n",
              "      <td>NaN</td>\n",
              "      <td>Condo For Sale</td>\n",
              "      <td>http://www.zillow.com/homes/for_sale//homedeta...</td>\n",
              "    </tr>\n",
              "    <tr>\n",
              "      <th>1</th>\n",
              "      <td>15 Hudson Yards # 67E</td>\n",
              "      <td>New York</td>\n",
              "      <td>NY</td>\n",
              "      <td>10001</td>\n",
              "      <td>7575000</td>\n",
              "      <td>2497.0</td>\n",
              "      <td>2.0</td>\n",
              "      <td>3.0</td>\n",
              "      <td>NaN</td>\n",
              "      <td>Condo For Sale</td>\n",
              "      <td>http://www.zillow.com/homes/for_sale//homedeta...</td>\n",
              "    </tr>\n",
              "    <tr>\n",
              "      <th>2</th>\n",
              "      <td>15 Hudson Yards # PH86D</td>\n",
              "      <td>New York</td>\n",
              "      <td>NY</td>\n",
              "      <td>10001</td>\n",
              "      <td>8475000</td>\n",
              "      <td>2515.0</td>\n",
              "      <td>3.0</td>\n",
              "      <td>4.0</td>\n",
              "      <td>NaN</td>\n",
              "      <td>Condo For Sale</td>\n",
              "      <td>http://www.zillow.com/homes/for_sale//homedeta...</td>\n",
              "    </tr>\n",
              "    <tr>\n",
              "      <th>3</th>\n",
              "      <td>540 W 28th St PH A</td>\n",
              "      <td>New York</td>\n",
              "      <td>NY</td>\n",
              "      <td>10001</td>\n",
              "      <td>3550000</td>\n",
              "      <td>1755.0</td>\n",
              "      <td>2.0</td>\n",
              "      <td>2.0</td>\n",
              "      <td>NaN</td>\n",
              "      <td>Condo For Sale</td>\n",
              "      <td>http://www.zillow.com/homes/for_sale//homedeta...</td>\n",
              "    </tr>\n",
              "    <tr>\n",
              "      <th>4</th>\n",
              "      <td>15 Hudson Yards # 34G</td>\n",
              "      <td>New York</td>\n",
              "      <td>NY</td>\n",
              "      <td>10001</td>\n",
              "      <td>4420000</td>\n",
              "      <td>1460.0</td>\n",
              "      <td>2.0</td>\n",
              "      <td>3.0</td>\n",
              "      <td>NaN</td>\n",
              "      <td>Condo For Sale</td>\n",
              "      <td>http://www.zillow.com/homes/for_sale//homedeta...</td>\n",
              "    </tr>\n",
              "    <tr>\n",
              "      <th>...</th>\n",
              "      <td>...</td>\n",
              "      <td>...</td>\n",
              "      <td>...</td>\n",
              "      <td>...</td>\n",
              "      <td>...</td>\n",
              "      <td>...</td>\n",
              "      <td>...</td>\n",
              "      <td>...</td>\n",
              "      <td>...</td>\n",
              "      <td>...</td>\n",
              "      <td>...</td>\n",
              "    </tr>\n",
              "    <tr>\n",
              "      <th>3717</th>\n",
              "      <td>4 W 21st St APT 4C</td>\n",
              "      <td>New York</td>\n",
              "      <td>NY</td>\n",
              "      <td>10010</td>\n",
              "      <td>1875000</td>\n",
              "      <td>1256.0</td>\n",
              "      <td>2.0</td>\n",
              "      <td>2.0</td>\n",
              "      <td>NaN</td>\n",
              "      <td>Apartment For Sale</td>\n",
              "      <td>http://www.zillow.com/homes/for_sale//homedeta...</td>\n",
              "    </tr>\n",
              "    <tr>\n",
              "      <th>3718</th>\n",
              "      <td>263 9th Ave APT 6B</td>\n",
              "      <td>New York</td>\n",
              "      <td>NY</td>\n",
              "      <td>10001</td>\n",
              "      <td>2599988</td>\n",
              "      <td>1536.0</td>\n",
              "      <td>2.0</td>\n",
              "      <td>2.0</td>\n",
              "      <td>NaN</td>\n",
              "      <td>Condo For Sale</td>\n",
              "      <td>http://www.zillow.com/homes/for_sale//homedeta...</td>\n",
              "    </tr>\n",
              "    <tr>\n",
              "      <th>3719</th>\n",
              "      <td>33 W 56th St APT 4A</td>\n",
              "      <td>New York</td>\n",
              "      <td>NY</td>\n",
              "      <td>10019</td>\n",
              "      <td>2990000</td>\n",
              "      <td>1198.0</td>\n",
              "      <td>1.0</td>\n",
              "      <td>2.0</td>\n",
              "      <td>NaN</td>\n",
              "      <td>Condo For Sale</td>\n",
              "      <td>http://www.zillow.com/homes/for_sale//homedeta...</td>\n",
              "    </tr>\n",
              "    <tr>\n",
              "      <th>3720</th>\n",
              "      <td>322 W 57th St # 34S1</td>\n",
              "      <td>New York</td>\n",
              "      <td>NY</td>\n",
              "      <td>10019</td>\n",
              "      <td>3700000</td>\n",
              "      <td>1600.0</td>\n",
              "      <td>3.0</td>\n",
              "      <td>2.0</td>\n",
              "      <td>NaN</td>\n",
              "      <td>For Sale by Owner</td>\n",
              "      <td>http://www.zillow.com/homes/for_sale//homedeta...</td>\n",
              "    </tr>\n",
              "    <tr>\n",
              "      <th>3724</th>\n",
              "      <td>15 Hudson Yards # 67E</td>\n",
              "      <td>New York</td>\n",
              "      <td>NY</td>\n",
              "      <td>10001</td>\n",
              "      <td>7575000</td>\n",
              "      <td>2497.0</td>\n",
              "      <td>2.0</td>\n",
              "      <td>3.0</td>\n",
              "      <td>NaN</td>\n",
              "      <td>Condo For Sale</td>\n",
              "      <td>http://www.zillow.com/homes/for_sale//homedeta...</td>\n",
              "    </tr>\n",
              "  </tbody>\n",
              "</table>\n",
              "<p>2881 rows × 11 columns</p>\n",
              "</div>"
            ],
            "text/plain": [
              "                      address  ...                                                url\n",
              "0          263 9th Ave APT 6B  ...  http://www.zillow.com/homes/for_sale//homedeta...\n",
              "1       15 Hudson Yards # 67E  ...  http://www.zillow.com/homes/for_sale//homedeta...\n",
              "2     15 Hudson Yards # PH86D  ...  http://www.zillow.com/homes/for_sale//homedeta...\n",
              "3          540 W 28th St PH A  ...  http://www.zillow.com/homes/for_sale//homedeta...\n",
              "4       15 Hudson Yards # 34G  ...  http://www.zillow.com/homes/for_sale//homedeta...\n",
              "...                       ...  ...                                                ...\n",
              "3717       4 W 21st St APT 4C  ...  http://www.zillow.com/homes/for_sale//homedeta...\n",
              "3718       263 9th Ave APT 6B  ...  http://www.zillow.com/homes/for_sale//homedeta...\n",
              "3719      33 W 56th St APT 4A  ...  http://www.zillow.com/homes/for_sale//homedeta...\n",
              "3720     322 W 57th St # 34S1  ...  http://www.zillow.com/homes/for_sale//homedeta...\n",
              "3724    15 Hudson Yards # 67E  ...  http://www.zillow.com/homes/for_sale//homedeta...\n",
              "\n",
              "[2881 rows x 11 columns]"
            ]
          },
          "metadata": {
            "tags": []
          },
          "execution_count": 63
        }
      ]
    },
    {
      "cell_type": "code",
      "metadata": {
        "id": "kLanCv9nKfdv"
      },
      "source": [
        "nychouses = nychouses[[\"zip\", \"price\", \"sqft\", \"bedrooms\", \"bathrooms\"]]"
      ],
      "execution_count": null,
      "outputs": []
    },
    {
      "cell_type": "code",
      "metadata": {
        "colab": {
          "base_uri": "https://localhost:8080/",
          "height": 206
        },
        "id": "9UFPA5vaOHYv",
        "outputId": "8bafb3a0-693a-481e-ed54-4259c945f838"
      },
      "source": [
        "nychouses.head()"
      ],
      "execution_count": null,
      "outputs": [
        {
          "output_type": "execute_result",
          "data": {
            "text/html": [
              "<div>\n",
              "<style scoped>\n",
              "    .dataframe tbody tr th:only-of-type {\n",
              "        vertical-align: middle;\n",
              "    }\n",
              "\n",
              "    .dataframe tbody tr th {\n",
              "        vertical-align: top;\n",
              "    }\n",
              "\n",
              "    .dataframe thead th {\n",
              "        text-align: right;\n",
              "    }\n",
              "</style>\n",
              "<table border=\"1\" class=\"dataframe\">\n",
              "  <thead>\n",
              "    <tr style=\"text-align: right;\">\n",
              "      <th></th>\n",
              "      <th>zip</th>\n",
              "      <th>price</th>\n",
              "      <th>sqft</th>\n",
              "      <th>bedrooms</th>\n",
              "      <th>bathrooms</th>\n",
              "    </tr>\n",
              "  </thead>\n",
              "  <tbody>\n",
              "    <tr>\n",
              "      <th>0</th>\n",
              "      <td>10001</td>\n",
              "      <td>2599988</td>\n",
              "      <td>1536.0</td>\n",
              "      <td>2.0</td>\n",
              "      <td>2.0</td>\n",
              "    </tr>\n",
              "    <tr>\n",
              "      <th>1</th>\n",
              "      <td>10001</td>\n",
              "      <td>7575000</td>\n",
              "      <td>2497.0</td>\n",
              "      <td>2.0</td>\n",
              "      <td>3.0</td>\n",
              "    </tr>\n",
              "    <tr>\n",
              "      <th>2</th>\n",
              "      <td>10001</td>\n",
              "      <td>8475000</td>\n",
              "      <td>2515.0</td>\n",
              "      <td>3.0</td>\n",
              "      <td>4.0</td>\n",
              "    </tr>\n",
              "    <tr>\n",
              "      <th>3</th>\n",
              "      <td>10001</td>\n",
              "      <td>3550000</td>\n",
              "      <td>1755.0</td>\n",
              "      <td>2.0</td>\n",
              "      <td>2.0</td>\n",
              "    </tr>\n",
              "    <tr>\n",
              "      <th>4</th>\n",
              "      <td>10001</td>\n",
              "      <td>4420000</td>\n",
              "      <td>1460.0</td>\n",
              "      <td>2.0</td>\n",
              "      <td>3.0</td>\n",
              "    </tr>\n",
              "  </tbody>\n",
              "</table>\n",
              "</div>"
            ],
            "text/plain": [
              "     zip    price    sqft bedrooms bathrooms\n",
              "0  10001  2599988  1536.0      2.0       2.0\n",
              "1  10001  7575000  2497.0      2.0       3.0\n",
              "2  10001  8475000  2515.0      3.0       4.0\n",
              "3  10001  3550000  1755.0      2.0       2.0\n",
              "4  10001  4420000  1460.0      2.0       3.0"
            ]
          },
          "metadata": {
            "tags": []
          },
          "execution_count": 65
        }
      ]
    },
    {
      "cell_type": "code",
      "metadata": {
        "colab": {
          "base_uri": "https://localhost:8080/"
        },
        "id": "WF2VwdTIKfjZ",
        "outputId": "dce2f962-b9fc-461e-9a71-d172e5e40869"
      },
      "source": [
        "!wget https://github.com/fedhere/MLPNS2021/blob/main/OHE/ZIP_CODE_040114.zip?raw=true"
      ],
      "execution_count": null,
      "outputs": [
        {
          "output_type": "stream",
          "text": [
            "--2021-04-20 12:24:47--  https://github.com/fedhere/MLPNS2021/blob/main/OHE/ZIP_CODE_040114.zip?raw=true\n",
            "Resolving github.com (github.com)... 140.82.114.4\n",
            "Connecting to github.com (github.com)|140.82.114.4|:443... connected.\n",
            "HTTP request sent, awaiting response... 302 Found\n",
            "Location: https://github.com/fedhere/MLPNS2021/raw/main/OHE/ZIP_CODE_040114.zip [following]\n",
            "--2021-04-20 12:24:47--  https://github.com/fedhere/MLPNS2021/raw/main/OHE/ZIP_CODE_040114.zip\n",
            "Reusing existing connection to github.com:443.\n",
            "HTTP request sent, awaiting response... 302 Found\n",
            "Location: https://raw.githubusercontent.com/fedhere/MLPNS2021/main/OHE/ZIP_CODE_040114.zip [following]\n",
            "--2021-04-20 12:24:47--  https://raw.githubusercontent.com/fedhere/MLPNS2021/main/OHE/ZIP_CODE_040114.zip\n",
            "Resolving raw.githubusercontent.com (raw.githubusercontent.com)... 185.199.108.133, 185.199.109.133, 185.199.110.133, ...\n",
            "Connecting to raw.githubusercontent.com (raw.githubusercontent.com)|185.199.108.133|:443... connected.\n",
            "HTTP request sent, awaiting response... 200 OK\n",
            "Length: 1514401 (1.4M) [application/zip]\n",
            "Saving to: ‘ZIP_CODE_040114.zip?raw=true’\n",
            "\n",
            "ZIP_CODE_040114.zip 100%[===================>]   1.44M  --.-KB/s    in 0.09s   \n",
            "\n",
            "2021-04-20 12:24:47 (16.3 MB/s) - ‘ZIP_CODE_040114.zip?raw=true’ saved [1514401/1514401]\n",
            "\n"
          ],
          "name": "stdout"
        }
      ]
    },
    {
      "cell_type": "code",
      "metadata": {
        "colab": {
          "base_uri": "https://localhost:8080/"
        },
        "id": "lRPBMNPoKfnf",
        "outputId": "111e16f0-cce0-4f4e-da19-910ee005073b"
      },
      "source": [
        "!unzip ZIP_CODE_040114.zip\n"
      ],
      "execution_count": null,
      "outputs": [
        {
          "output_type": "stream",
          "text": [
            "unzip:  cannot find or open ZIP_CODE_040114.zip, ZIP_CODE_040114.zip.zip or ZIP_CODE_040114.zip.ZIP.\n"
          ],
          "name": "stdout"
        }
      ]
    },
    {
      "cell_type": "code",
      "metadata": {
        "colab": {
          "base_uri": "https://localhost:8080/"
        },
        "id": "uIF-wmZjPgHq",
        "outputId": "28fbb751-c1cd-4053-fba5-219547729da2"
      },
      "source": [
        "from google.colab import drive\n",
        "drive.mount('/content/drive')"
      ],
      "execution_count": null,
      "outputs": [
        {
          "output_type": "stream",
          "text": [
            "Mounted at /content/drive\n"
          ],
          "name": "stdout"
        }
      ]
    },
    {
      "cell_type": "code",
      "metadata": {
        "colab": {
          "base_uri": "https://localhost:8080/"
        },
        "id": "hJ2o1FS_QUQv",
        "outputId": "dc83d138-0d5f-4a28-82db-bf600ea99321"
      },
      "source": [
        "cd /content/drive/MyDrive"
      ],
      "execution_count": null,
      "outputs": [
        {
          "output_type": "stream",
          "text": [
            "/content/drive/MyDrive\n"
          ],
          "name": "stdout"
        }
      ]
    },
    {
      "cell_type": "code",
      "metadata": {
        "colab": {
          "base_uri": "https://localhost:8080/"
        },
        "id": "8VQ-iaujQWJw",
        "outputId": "d06a511d-ea4a-42f8-b2bb-47e671d6a151"
      },
      "source": [
        "ls"
      ],
      "execution_count": null,
      "outputs": [
        {
          "output_type": "stream",
          "text": [
            "\u001b[0m\u001b[01;34m'amichevole roberto'\u001b[0m/                  prova2.txt\n",
            "\u001b[01;34m'amichevole simone'\u001b[0m/                   prova.txt\n",
            " busBusses.npy                         \u001b[01;34m__pycache__\u001b[0m/\n",
            " busTimeTable.npy                      stroke-prediction-dataset.zip\n",
            "\u001b[01;34m'Colab Notebooks'\u001b[0m/                     training.csv\n",
            " country_pop.xls                       \u001b[01;34mZIP_CODE_040114\u001b[0m/\n",
            " country_pop.xls.html                  ZIP_CODE_040114.dbf\n",
            " doppia_fenditura_prima_colonna.gdoc   ZIP_CODE_040114.prj\n",
            " doppia_fenditura_prima_colonna.txt    ZIP_CODE_040114.sbn\n",
            " healthcare-dataset-stroke-data.csv    ZIP_CODE_040114.sbx\n",
            " ispalindrome.py                       ZIP_CODE_040114.shp\n",
            " kaggle.json                           ZIP_CODE_040114.shp.xml\n",
            " prova1.txt                            ZIP_CODE_040114.shx\n"
          ],
          "name": "stdout"
        }
      ]
    },
    {
      "cell_type": "code",
      "metadata": {
        "id": "-cI0LnhzKfs-"
      },
      "source": [
        "zips = gpd.read_file(\"ZIP_CODE_040114.shp\")"
      ],
      "execution_count": null,
      "outputs": []
    },
    {
      "cell_type": "code",
      "metadata": {
        "id": "5ebZkOkCKfvN"
      },
      "source": [
        ""
      ],
      "execution_count": null,
      "outputs": []
    },
    {
      "cell_type": "code",
      "metadata": {
        "id": "YdOntrlcKfyA"
      },
      "source": [
        ""
      ],
      "execution_count": null,
      "outputs": []
    },
    {
      "cell_type": "code",
      "metadata": {
        "id": "GHmR0qHtKf1s"
      },
      "source": [
        ""
      ],
      "execution_count": null,
      "outputs": []
    },
    {
      "cell_type": "code",
      "metadata": {
        "id": "zex7J4kpKf4T"
      },
      "source": [
        ""
      ],
      "execution_count": null,
      "outputs": []
    }
  ]
}